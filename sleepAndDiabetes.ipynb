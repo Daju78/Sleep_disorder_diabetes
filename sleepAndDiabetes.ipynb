{
 "cells": [
  {
   "cell_type": "code",
   "execution_count": 1,
   "metadata": {
    "collapsed": false
   },
   "outputs": [
    {
     "data": {
      "text/html": [
       "<div>\n",
       "<table border=\"1\" class=\"dataframe\">\n",
       "  <thead>\n",
       "    <tr style=\"text-align: right;\">\n",
       "      <th></th>\n",
       "      <th>SEQN</th>\n",
       "      <th>DIQ010</th>\n",
       "      <th>DID040</th>\n",
       "      <th>DIQ160</th>\n",
       "      <th>DIQ170</th>\n",
       "      <th>DIQ172</th>\n",
       "      <th>DIQ175A</th>\n",
       "      <th>DIQ175B</th>\n",
       "      <th>DIQ175C</th>\n",
       "      <th>DIQ175D</th>\n",
       "      <th>...</th>\n",
       "      <th>DIQ300D</th>\n",
       "      <th>DID310S</th>\n",
       "      <th>DID310D</th>\n",
       "      <th>DID320</th>\n",
       "      <th>DID330</th>\n",
       "      <th>DID341</th>\n",
       "      <th>DID350</th>\n",
       "      <th>DIQ350U</th>\n",
       "      <th>DIQ360</th>\n",
       "      <th>DIQ080</th>\n",
       "    </tr>\n",
       "  </thead>\n",
       "  <tbody>\n",
       "    <tr>\n",
       "      <th>0</th>\n",
       "      <td>73557.0</td>\n",
       "      <td>1.0</td>\n",
       "      <td>62.0</td>\n",
       "      <td>NaN</td>\n",
       "      <td>NaN</td>\n",
       "      <td>NaN</td>\n",
       "      <td>NaN</td>\n",
       "      <td>NaN</td>\n",
       "      <td>NaN</td>\n",
       "      <td>NaN</td>\n",
       "      <td>...</td>\n",
       "      <td>9999.0</td>\n",
       "      <td>6666.0</td>\n",
       "      <td>6666.0</td>\n",
       "      <td>5555.0</td>\n",
       "      <td>NaN</td>\n",
       "      <td>2.0</td>\n",
       "      <td>5.397605e-79</td>\n",
       "      <td>NaN</td>\n",
       "      <td>4.0</td>\n",
       "      <td>2.0</td>\n",
       "    </tr>\n",
       "    <tr>\n",
       "      <th>1</th>\n",
       "      <td>73558.0</td>\n",
       "      <td>1.0</td>\n",
       "      <td>23.0</td>\n",
       "      <td>NaN</td>\n",
       "      <td>NaN</td>\n",
       "      <td>NaN</td>\n",
       "      <td>NaN</td>\n",
       "      <td>NaN</td>\n",
       "      <td>NaN</td>\n",
       "      <td>NaN</td>\n",
       "      <td>...</td>\n",
       "      <td>82.0</td>\n",
       "      <td>9999.0</td>\n",
       "      <td>9999.0</td>\n",
       "      <td>147.0</td>\n",
       "      <td>147.0</td>\n",
       "      <td>6.0</td>\n",
       "      <td>1.000000e+00</td>\n",
       "      <td>1.0</td>\n",
       "      <td>1.0</td>\n",
       "      <td>1.0</td>\n",
       "    </tr>\n",
       "    <tr>\n",
       "      <th>2</th>\n",
       "      <td>73559.0</td>\n",
       "      <td>1.0</td>\n",
       "      <td>57.0</td>\n",
       "      <td>NaN</td>\n",
       "      <td>NaN</td>\n",
       "      <td>NaN</td>\n",
       "      <td>NaN</td>\n",
       "      <td>NaN</td>\n",
       "      <td>NaN</td>\n",
       "      <td>NaN</td>\n",
       "      <td>...</td>\n",
       "      <td>89.0</td>\n",
       "      <td>6666.0</td>\n",
       "      <td>6666.0</td>\n",
       "      <td>9999.0</td>\n",
       "      <td>6666.0</td>\n",
       "      <td>2.0</td>\n",
       "      <td>1.000000e+00</td>\n",
       "      <td>1.0</td>\n",
       "      <td>2.0</td>\n",
       "      <td>2.0</td>\n",
       "    </tr>\n",
       "    <tr>\n",
       "      <th>3</th>\n",
       "      <td>73560.0</td>\n",
       "      <td>2.0</td>\n",
       "      <td>NaN</td>\n",
       "      <td>NaN</td>\n",
       "      <td>NaN</td>\n",
       "      <td>NaN</td>\n",
       "      <td>NaN</td>\n",
       "      <td>NaN</td>\n",
       "      <td>NaN</td>\n",
       "      <td>NaN</td>\n",
       "      <td>...</td>\n",
       "      <td>NaN</td>\n",
       "      <td>NaN</td>\n",
       "      <td>NaN</td>\n",
       "      <td>NaN</td>\n",
       "      <td>NaN</td>\n",
       "      <td>NaN</td>\n",
       "      <td>NaN</td>\n",
       "      <td>NaN</td>\n",
       "      <td>NaN</td>\n",
       "      <td>NaN</td>\n",
       "    </tr>\n",
       "    <tr>\n",
       "      <th>4</th>\n",
       "      <td>73561.0</td>\n",
       "      <td>2.0</td>\n",
       "      <td>NaN</td>\n",
       "      <td>2.0</td>\n",
       "      <td>2.0</td>\n",
       "      <td>2.0</td>\n",
       "      <td>NaN</td>\n",
       "      <td>NaN</td>\n",
       "      <td>NaN</td>\n",
       "      <td>NaN</td>\n",
       "      <td>...</td>\n",
       "      <td>NaN</td>\n",
       "      <td>NaN</td>\n",
       "      <td>NaN</td>\n",
       "      <td>NaN</td>\n",
       "      <td>NaN</td>\n",
       "      <td>NaN</td>\n",
       "      <td>NaN</td>\n",
       "      <td>NaN</td>\n",
       "      <td>NaN</td>\n",
       "      <td>NaN</td>\n",
       "    </tr>\n",
       "  </tbody>\n",
       "</table>\n",
       "<p>5 rows × 54 columns</p>\n",
       "</div>"
      ],
      "text/plain": [
       "      SEQN  DIQ010  DID040  DIQ160  DIQ170  DIQ172  DIQ175A  DIQ175B  DIQ175C  \\\n",
       "0  73557.0     1.0    62.0     NaN     NaN     NaN      NaN      NaN      NaN   \n",
       "1  73558.0     1.0    23.0     NaN     NaN     NaN      NaN      NaN      NaN   \n",
       "2  73559.0     1.0    57.0     NaN     NaN     NaN      NaN      NaN      NaN   \n",
       "3  73560.0     2.0     NaN     NaN     NaN     NaN      NaN      NaN      NaN   \n",
       "4  73561.0     2.0     NaN     2.0     2.0     2.0      NaN      NaN      NaN   \n",
       "\n",
       "   DIQ175D   ...    DIQ300D  DID310S  DID310D  DID320  DID330  DID341  \\\n",
       "0      NaN   ...     9999.0   6666.0   6666.0  5555.0     NaN     2.0   \n",
       "1      NaN   ...       82.0   9999.0   9999.0   147.0   147.0     6.0   \n",
       "2      NaN   ...       89.0   6666.0   6666.0  9999.0  6666.0     2.0   \n",
       "3      NaN   ...        NaN      NaN      NaN     NaN     NaN     NaN   \n",
       "4      NaN   ...        NaN      NaN      NaN     NaN     NaN     NaN   \n",
       "\n",
       "         DID350  DIQ350U  DIQ360  DIQ080  \n",
       "0  5.397605e-79      NaN     4.0     2.0  \n",
       "1  1.000000e+00      1.0     1.0     1.0  \n",
       "2  1.000000e+00      1.0     2.0     2.0  \n",
       "3           NaN      NaN     NaN     NaN  \n",
       "4           NaN      NaN     NaN     NaN  \n",
       "\n",
       "[5 rows x 54 columns]"
      ]
     },
     "execution_count": 1,
     "metadata": {},
     "output_type": "execute_result"
    }
   ],
   "source": [
    "# CDC data https://wwwn.cdc.gov/nchs/nhanes/Default.aspx\n",
    "\n",
    "import pandas as pd\n",
    "%matplotlib inline\n",
    "\n",
    "import seaborn as sns\n",
    "\n",
    "\n",
    "diabetes = pd.read_sas('../data/diabetes.xpt', encoding='unicode-escape')\n",
    "\n",
    "diabetes.head()\n"
   ]
  },
  {
   "cell_type": "code",
   "execution_count": 2,
   "metadata": {
    "collapsed": false
   },
   "outputs": [
    {
     "data": {
      "text/html": [
       "<div>\n",
       "<table border=\"1\" class=\"dataframe\">\n",
       "  <thead>\n",
       "    <tr style=\"text-align: right;\">\n",
       "      <th></th>\n",
       "      <th>id</th>\n",
       "      <th>hour_sleep</th>\n",
       "      <th>has_disorder</th>\n",
       "      <th>diag_disorder</th>\n",
       "    </tr>\n",
       "  </thead>\n",
       "  <tbody>\n",
       "    <tr>\n",
       "      <th>count</th>\n",
       "      <td>6464.000000</td>\n",
       "      <td>6461.000000</td>\n",
       "      <td>6464.000000</td>\n",
       "      <td>6464.000000</td>\n",
       "    </tr>\n",
       "    <tr>\n",
       "      <th>mean</th>\n",
       "      <td>78682.877011</td>\n",
       "      <td>7.050302</td>\n",
       "      <td>1.757426</td>\n",
       "      <td>1.924505</td>\n",
       "    </tr>\n",
       "    <tr>\n",
       "      <th>std</th>\n",
       "      <td>2923.654158</td>\n",
       "      <td>3.347950</td>\n",
       "      <td>0.448430</td>\n",
       "      <td>0.427139</td>\n",
       "    </tr>\n",
       "    <tr>\n",
       "      <th>min</th>\n",
       "      <td>73557.000000</td>\n",
       "      <td>2.000000</td>\n",
       "      <td>1.000000</td>\n",
       "      <td>1.000000</td>\n",
       "    </tr>\n",
       "    <tr>\n",
       "      <th>25%</th>\n",
       "      <td>76175.500000</td>\n",
       "      <td>6.000000</td>\n",
       "      <td>2.000000</td>\n",
       "      <td>2.000000</td>\n",
       "    </tr>\n",
       "    <tr>\n",
       "      <th>50%</th>\n",
       "      <td>78735.500000</td>\n",
       "      <td>7.000000</td>\n",
       "      <td>2.000000</td>\n",
       "      <td>2.000000</td>\n",
       "    </tr>\n",
       "    <tr>\n",
       "      <th>75%</th>\n",
       "      <td>81203.250000</td>\n",
       "      <td>8.000000</td>\n",
       "      <td>2.000000</td>\n",
       "      <td>2.000000</td>\n",
       "    </tr>\n",
       "    <tr>\n",
       "      <th>max</th>\n",
       "      <td>83729.000000</td>\n",
       "      <td>99.000000</td>\n",
       "      <td>9.000000</td>\n",
       "      <td>9.000000</td>\n",
       "    </tr>\n",
       "  </tbody>\n",
       "</table>\n",
       "</div>"
      ],
      "text/plain": [
       "                 id   hour_sleep  has_disorder  diag_disorder\n",
       "count   6464.000000  6461.000000   6464.000000    6464.000000\n",
       "mean   78682.877011     7.050302      1.757426       1.924505\n",
       "std     2923.654158     3.347950      0.448430       0.427139\n",
       "min    73557.000000     2.000000      1.000000       1.000000\n",
       "25%    76175.500000     6.000000      2.000000       2.000000\n",
       "50%    78735.500000     7.000000      2.000000       2.000000\n",
       "75%    81203.250000     8.000000      2.000000       2.000000\n",
       "max    83729.000000    99.000000      9.000000       9.000000"
      ]
     },
     "execution_count": 2,
     "metadata": {},
     "output_type": "execute_result"
    }
   ],
   "source": [
    "sleep = pd.read_sas('../data/sleep_disorder.xpt', encoding='unicode-escape')\n",
    "\n",
    "sleep_columns = ['id', 'hour_sleep', 'has_disorder', 'diag_disorder']\n",
    "\n",
    "sleep.columns = sleep_columns\n",
    "\n",
    "sleep.head()\n",
    "sleep.describe()"
   ]
  },
  {
   "cell_type": "code",
   "execution_count": 3,
   "metadata": {
    "collapsed": false
   },
   "outputs": [
    {
     "data": {
      "text/html": [
       "<div>\n",
       "<table border=\"1\" class=\"dataframe\">\n",
       "  <thead>\n",
       "    <tr style=\"text-align: right;\">\n",
       "      <th></th>\n",
       "      <th>id</th>\n",
       "      <th>hour_sleep</th>\n",
       "      <th>has_disorder</th>\n",
       "      <th>diag_disorder</th>\n",
       "      <th>h_disorder</th>\n",
       "    </tr>\n",
       "  </thead>\n",
       "  <tbody>\n",
       "    <tr>\n",
       "      <th>0</th>\n",
       "      <td>73557.0</td>\n",
       "      <td>7.0</td>\n",
       "      <td>1.0</td>\n",
       "      <td>2.0</td>\n",
       "      <td>1</td>\n",
       "    </tr>\n",
       "    <tr>\n",
       "      <th>1</th>\n",
       "      <td>73558.0</td>\n",
       "      <td>9.0</td>\n",
       "      <td>2.0</td>\n",
       "      <td>2.0</td>\n",
       "      <td>0</td>\n",
       "    </tr>\n",
       "    <tr>\n",
       "      <th>2</th>\n",
       "      <td>73559.0</td>\n",
       "      <td>8.0</td>\n",
       "      <td>2.0</td>\n",
       "      <td>2.0</td>\n",
       "      <td>0</td>\n",
       "    </tr>\n",
       "    <tr>\n",
       "      <th>3</th>\n",
       "      <td>73561.0</td>\n",
       "      <td>9.0</td>\n",
       "      <td>2.0</td>\n",
       "      <td>2.0</td>\n",
       "      <td>0</td>\n",
       "    </tr>\n",
       "    <tr>\n",
       "      <th>4</th>\n",
       "      <td>73562.0</td>\n",
       "      <td>5.0</td>\n",
       "      <td>2.0</td>\n",
       "      <td>1.0</td>\n",
       "      <td>0</td>\n",
       "    </tr>\n",
       "  </tbody>\n",
       "</table>\n",
       "</div>"
      ],
      "text/plain": [
       "        id  hour_sleep  has_disorder  diag_disorder  h_disorder\n",
       "0  73557.0         7.0           1.0            2.0           1\n",
       "1  73558.0         9.0           2.0            2.0           0\n",
       "2  73559.0         8.0           2.0            2.0           0\n",
       "3  73561.0         9.0           2.0            2.0           0\n",
       "4  73562.0         5.0           2.0            1.0           0"
      ]
     },
     "execution_count": 3,
     "metadata": {},
     "output_type": "execute_result"
    }
   ],
   "source": [
    "sleep['h_disorder'] = sleep['has_disorder'].apply(lambda x: 1 if x==1 else 0)\n",
    "sleep.head()"
   ]
  },
  {
   "cell_type": "code",
   "execution_count": 4,
   "metadata": {
    "collapsed": false
   },
   "outputs": [
    {
     "data": {
      "text/html": [
       "<div>\n",
       "<table border=\"1\" class=\"dataframe\">\n",
       "  <thead>\n",
       "    <tr style=\"text-align: right;\">\n",
       "      <th></th>\n",
       "      <th>id</th>\n",
       "      <th>hour_sleep</th>\n",
       "      <th>has_disorder</th>\n",
       "      <th>diag_disorder</th>\n",
       "      <th>h_disorder</th>\n",
       "      <th>d_disorder</th>\n",
       "    </tr>\n",
       "  </thead>\n",
       "  <tbody>\n",
       "    <tr>\n",
       "      <th>0</th>\n",
       "      <td>73557.0</td>\n",
       "      <td>7.0</td>\n",
       "      <td>1.0</td>\n",
       "      <td>2.0</td>\n",
       "      <td>1</td>\n",
       "      <td>0</td>\n",
       "    </tr>\n",
       "    <tr>\n",
       "      <th>1</th>\n",
       "      <td>73558.0</td>\n",
       "      <td>9.0</td>\n",
       "      <td>2.0</td>\n",
       "      <td>2.0</td>\n",
       "      <td>0</td>\n",
       "      <td>0</td>\n",
       "    </tr>\n",
       "    <tr>\n",
       "      <th>2</th>\n",
       "      <td>73559.0</td>\n",
       "      <td>8.0</td>\n",
       "      <td>2.0</td>\n",
       "      <td>2.0</td>\n",
       "      <td>0</td>\n",
       "      <td>0</td>\n",
       "    </tr>\n",
       "    <tr>\n",
       "      <th>3</th>\n",
       "      <td>73561.0</td>\n",
       "      <td>9.0</td>\n",
       "      <td>2.0</td>\n",
       "      <td>2.0</td>\n",
       "      <td>0</td>\n",
       "      <td>0</td>\n",
       "    </tr>\n",
       "    <tr>\n",
       "      <th>4</th>\n",
       "      <td>73562.0</td>\n",
       "      <td>5.0</td>\n",
       "      <td>2.0</td>\n",
       "      <td>1.0</td>\n",
       "      <td>0</td>\n",
       "      <td>1</td>\n",
       "    </tr>\n",
       "  </tbody>\n",
       "</table>\n",
       "</div>"
      ],
      "text/plain": [
       "        id  hour_sleep  has_disorder  diag_disorder  h_disorder  d_disorder\n",
       "0  73557.0         7.0           1.0            2.0           1           0\n",
       "1  73558.0         9.0           2.0            2.0           0           0\n",
       "2  73559.0         8.0           2.0            2.0           0           0\n",
       "3  73561.0         9.0           2.0            2.0           0           0\n",
       "4  73562.0         5.0           2.0            1.0           0           1"
      ]
     },
     "execution_count": 4,
     "metadata": {},
     "output_type": "execute_result"
    }
   ],
   "source": [
    "sleep['d_disorder'] = sleep['diag_disorder'].apply(lambda x: 1 if x==1 else 0)\n",
    "sleep.head()"
   ]
  },
  {
   "cell_type": "code",
   "execution_count": 5,
   "metadata": {
    "collapsed": false
   },
   "outputs": [
    {
     "data": {
      "text/plain": [
       "hour_sleep\n",
       "2.0       22\n",
       "3.0       41\n",
       "4.0      240\n",
       "5.0      557\n",
       "6.0     1507\n",
       "7.0     1714\n",
       "8.0     1790\n",
       "9.0      366\n",
       "10.0     168\n",
       "11.0      10\n",
       "12.0      46\n",
       "dtype: int64"
      ]
     },
     "execution_count": 5,
     "metadata": {},
     "output_type": "execute_result"
    }
   ],
   "source": [
    "sleep['hour_sleep'] = sleep['hour_sleep'].apply(lambda x: 7 if x==99 else x)\n",
    "sleep.groupby('hour_sleep').size()"
   ]
  },
  {
   "cell_type": "code",
   "execution_count": 6,
   "metadata": {
    "collapsed": false
   },
   "outputs": [
    {
     "data": {
      "text/plain": [
       "id               False\n",
       "hour_sleep       False\n",
       "has_disorder     False\n",
       "diag_disorder    False\n",
       "h_disorder       False\n",
       "d_disorder       False\n",
       "dtype: bool"
      ]
     },
     "execution_count": 6,
     "metadata": {},
     "output_type": "execute_result"
    }
   ],
   "source": [
    "sleep['hour_sleep'] = sleep['hour_sleep'].fillna(7)\n",
    "sleep.isnull().any()"
   ]
  },
  {
   "cell_type": "code",
   "execution_count": 7,
   "metadata": {
    "collapsed": false
   },
   "outputs": [],
   "source": [
    "diabetes.drop(diabetes.columns[3:], axis=1, inplace=True)\n",
    "\n",
    "#r_diabetes.head()"
   ]
  },
  {
   "cell_type": "code",
   "execution_count": 8,
   "metadata": {
    "collapsed": false
   },
   "outputs": [
    {
     "data": {
      "text/html": [
       "<div>\n",
       "<table border=\"1\" class=\"dataframe\">\n",
       "  <thead>\n",
       "    <tr style=\"text-align: right;\">\n",
       "      <th></th>\n",
       "      <th>id</th>\n",
       "      <th>d_diabetes</th>\n",
       "      <th>diabetes_age</th>\n",
       "    </tr>\n",
       "  </thead>\n",
       "  <tbody>\n",
       "    <tr>\n",
       "      <th>0</th>\n",
       "      <td>73557.0</td>\n",
       "      <td>1.0</td>\n",
       "      <td>62.0</td>\n",
       "    </tr>\n",
       "    <tr>\n",
       "      <th>1</th>\n",
       "      <td>73558.0</td>\n",
       "      <td>1.0</td>\n",
       "      <td>23.0</td>\n",
       "    </tr>\n",
       "    <tr>\n",
       "      <th>2</th>\n",
       "      <td>73559.0</td>\n",
       "      <td>1.0</td>\n",
       "      <td>57.0</td>\n",
       "    </tr>\n",
       "    <tr>\n",
       "      <th>3</th>\n",
       "      <td>73560.0</td>\n",
       "      <td>2.0</td>\n",
       "      <td>NaN</td>\n",
       "    </tr>\n",
       "    <tr>\n",
       "      <th>4</th>\n",
       "      <td>73561.0</td>\n",
       "      <td>2.0</td>\n",
       "      <td>NaN</td>\n",
       "    </tr>\n",
       "  </tbody>\n",
       "</table>\n",
       "</div>"
      ],
      "text/plain": [
       "        id  d_diabetes  diabetes_age\n",
       "0  73557.0         1.0          62.0\n",
       "1  73558.0         1.0          23.0\n",
       "2  73559.0         1.0          57.0\n",
       "3  73560.0         2.0           NaN\n",
       "4  73561.0         2.0           NaN"
      ]
     },
     "execution_count": 8,
     "metadata": {},
     "output_type": "execute_result"
    }
   ],
   "source": [
    "diabetes_column = ['id', 'd_diabetes', 'diabetes_age']\n",
    "diabetes.columns = diabetes_column\n",
    "diabetes.head()"
   ]
  },
  {
   "cell_type": "code",
   "execution_count": 9,
   "metadata": {
    "collapsed": false
   },
   "outputs": [
    {
     "data": {
      "text/html": [
       "<div>\n",
       "<table border=\"1\" class=\"dataframe\">\n",
       "  <thead>\n",
       "    <tr style=\"text-align: right;\">\n",
       "      <th></th>\n",
       "      <th>id</th>\n",
       "      <th>d_diabetes</th>\n",
       "      <th>diabetes_age</th>\n",
       "    </tr>\n",
       "  </thead>\n",
       "  <tbody>\n",
       "    <tr>\n",
       "      <th>0</th>\n",
       "      <td>73557.0</td>\n",
       "      <td>1</td>\n",
       "      <td>62.0</td>\n",
       "    </tr>\n",
       "    <tr>\n",
       "      <th>1</th>\n",
       "      <td>73558.0</td>\n",
       "      <td>1</td>\n",
       "      <td>23.0</td>\n",
       "    </tr>\n",
       "    <tr>\n",
       "      <th>2</th>\n",
       "      <td>73559.0</td>\n",
       "      <td>1</td>\n",
       "      <td>57.0</td>\n",
       "    </tr>\n",
       "    <tr>\n",
       "      <th>3</th>\n",
       "      <td>73560.0</td>\n",
       "      <td>0</td>\n",
       "      <td>NaN</td>\n",
       "    </tr>\n",
       "    <tr>\n",
       "      <th>4</th>\n",
       "      <td>73561.0</td>\n",
       "      <td>0</td>\n",
       "      <td>NaN</td>\n",
       "    </tr>\n",
       "  </tbody>\n",
       "</table>\n",
       "</div>"
      ],
      "text/plain": [
       "        id  d_diabetes  diabetes_age\n",
       "0  73557.0           1          62.0\n",
       "1  73558.0           1          23.0\n",
       "2  73559.0           1          57.0\n",
       "3  73560.0           0           NaN\n",
       "4  73561.0           0           NaN"
      ]
     },
     "execution_count": 9,
     "metadata": {},
     "output_type": "execute_result"
    }
   ],
   "source": [
    "diabetes['d_diabetes'] = diabetes['d_diabetes'].apply(lambda x: 1 if x==1 or x==3 else 0)\n",
    "diabetes.head()"
   ]
  },
  {
   "cell_type": "code",
   "execution_count": 10,
   "metadata": {
    "collapsed": false
   },
   "outputs": [
    {
     "data": {
      "text/html": [
       "<div>\n",
       "<table border=\"1\" class=\"dataframe\">\n",
       "  <thead>\n",
       "    <tr style=\"text-align: right;\">\n",
       "      <th></th>\n",
       "      <th>id</th>\n",
       "      <th>d_diabetes</th>\n",
       "      <th>diabetes_age</th>\n",
       "    </tr>\n",
       "  </thead>\n",
       "  <tbody>\n",
       "  </tbody>\n",
       "</table>\n",
       "</div>"
      ],
      "text/plain": [
       "Empty DataFrame\n",
       "Columns: [id, d_diabetes, diabetes_age]\n",
       "Index: []"
      ]
     },
     "execution_count": 10,
     "metadata": {},
     "output_type": "execute_result"
    }
   ],
   "source": [
    "diabetes['diabetes_age'] = diabetes['diabetes_age'].fillna(0)\n",
    "\n",
    "## only 2 are 666 -> age less than 1, change to 1\n",
    "diabetes.loc[diabetes.diabetes_age == 666, 'diabetes_age']= 1\n",
    "diabetes[diabetes.diabetes_age == 666]"
   ]
  },
  {
   "cell_type": "code",
   "execution_count": null,
   "metadata": {
    "collapsed": false
   },
   "outputs": [],
   "source": [
    "## findings mean of age of diabetes\n",
    "diabetes[(diabetes.diabetes_age < 81) & (diabetes.diabetes_age > 0)].mean()"
   ]
  },
  {
   "cell_type": "code",
   "execution_count": 11,
   "metadata": {
    "collapsed": false
   },
   "outputs": [],
   "source": [
    "# age 999 means unknow, we can change with mean \n",
    "diabetes.loc[diabetes.diabetes_age == 999, 'diabetes_age'] = 48\n"
   ]
  },
  {
   "cell_type": "code",
   "execution_count": 12,
   "metadata": {
    "collapsed": false
   },
   "outputs": [
    {
     "data": {
      "text/html": [
       "<div>\n",
       "<table border=\"1\" class=\"dataframe\">\n",
       "  <thead>\n",
       "    <tr style=\"text-align: right;\">\n",
       "      <th></th>\n",
       "      <th>id</th>\n",
       "      <th>d_diabetes</th>\n",
       "      <th>diabetes_age</th>\n",
       "    </tr>\n",
       "  </thead>\n",
       "  <tbody>\n",
       "  </tbody>\n",
       "</table>\n",
       "</div>"
      ],
      "text/plain": [
       "Empty DataFrame\n",
       "Columns: [id, d_diabetes, diabetes_age]\n",
       "Index: []"
      ]
     },
     "execution_count": 12,
     "metadata": {},
     "output_type": "execute_result"
    }
   ],
   "source": [
    "## age columns is clean now\n",
    "diabetes[diabetes.diabetes_age > 80]"
   ]
  },
  {
   "cell_type": "code",
   "execution_count": 13,
   "metadata": {
    "collapsed": true
   },
   "outputs": [],
   "source": [
    "sleep_diabetes = pd.merge(sleep, diabetes, on='id')"
   ]
  },
  {
   "cell_type": "code",
   "execution_count": 18,
   "metadata": {
    "collapsed": false
   },
   "outputs": [
    {
     "data": {
      "text/html": [
       "<div>\n",
       "<table border=\"1\" class=\"dataframe\">\n",
       "  <thead>\n",
       "    <tr style=\"text-align: right;\">\n",
       "      <th></th>\n",
       "      <th>id</th>\n",
       "      <th>hour_sleep</th>\n",
       "      <th>d_disorder</th>\n",
       "      <th>d_diabetes</th>\n",
       "    </tr>\n",
       "  </thead>\n",
       "  <tbody>\n",
       "    <tr>\n",
       "      <th>0</th>\n",
       "      <td>73557.0</td>\n",
       "      <td>7.0</td>\n",
       "      <td>0</td>\n",
       "      <td>1</td>\n",
       "    </tr>\n",
       "    <tr>\n",
       "      <th>1</th>\n",
       "      <td>73558.0</td>\n",
       "      <td>9.0</td>\n",
       "      <td>0</td>\n",
       "      <td>1</td>\n",
       "    </tr>\n",
       "    <tr>\n",
       "      <th>2</th>\n",
       "      <td>73559.0</td>\n",
       "      <td>8.0</td>\n",
       "      <td>0</td>\n",
       "      <td>1</td>\n",
       "    </tr>\n",
       "    <tr>\n",
       "      <th>3</th>\n",
       "      <td>73561.0</td>\n",
       "      <td>9.0</td>\n",
       "      <td>0</td>\n",
       "      <td>0</td>\n",
       "    </tr>\n",
       "    <tr>\n",
       "      <th>4</th>\n",
       "      <td>73562.0</td>\n",
       "      <td>5.0</td>\n",
       "      <td>1</td>\n",
       "      <td>0</td>\n",
       "    </tr>\n",
       "  </tbody>\n",
       "</table>\n",
       "</div>"
      ],
      "text/plain": [
       "        id  hour_sleep  d_disorder  d_diabetes\n",
       "0  73557.0         7.0           0           1\n",
       "1  73558.0         9.0           0           1\n",
       "2  73559.0         8.0           0           1\n",
       "3  73561.0         9.0           0           0\n",
       "4  73562.0         5.0           1           0"
      ]
     },
     "execution_count": 18,
     "metadata": {},
     "output_type": "execute_result"
    }
   ],
   "source": [
    "sp = sleep_diabetes.drop(['has_disorder','h_disorder','diag_disorder', 'diabetes_age'], axis =1)\n",
    "sp.head()"
   ]
  },
  {
   "cell_type": "code",
   "execution_count": 19,
   "metadata": {
    "collapsed": false
   },
   "outputs": [
    {
     "data": {
      "text/plain": [
       "<matplotlib.axes._subplots.AxesSubplot at 0x11324ff90>"
      ]
     },
     "execution_count": 19,
     "metadata": {},
     "output_type": "execute_result"
    },
    {
     "data": {
      "image/png": "[encoded data removed]",
      "text/plain": [
       "<matplotlib.figure.Figure at 0x11307e390>"
      ]
     },
     "metadata": {},
     "output_type": "display_data"
    }
   ],
   "source": [
    "import seaborn as sns\n",
    "%matplotlib inline\n",
    "sns.heatmap(sp.corr())"
   ]
  },
  {
   "cell_type": "code",
   "execution_count": 20,
   "metadata": {
    "collapsed": false
   },
   "outputs": [
    {
     "name": "stdout",
     "output_type": "stream",
     "text": [
      "Populating the interactive namespace from numpy and matplotlib\n"
     ]
    }
   ],
   "source": [
    "# add more variables, \n",
    "# plot corredtion martix \n",
    "# for just 2 features need to plot to see any relation between them\n",
    "%pylab inline\n",
    "sns.set_style('whitegrid')\n",
    "##print last_year\n",
    "# using plot and the '.' notation.\n",
    "#plt.figure(figsize=(8, 6), dpi=80)\n",
    "#plt.subplot(1, 1, 1)\n",
    "#plt.plot(sp.hour_sleep, sp.d_diabetes, '.')"
   ]
  },
  {
   "cell_type": "code",
   "execution_count": 21,
   "metadata": {
    "collapsed": false
   },
   "outputs": [
    {
     "data": {
      "text/html": [
       "<div>\n",
       "<table border=\"1\" class=\"dataframe\">\n",
       "  <thead>\n",
       "    <tr style=\"text-align: right;\">\n",
       "      <th></th>\n",
       "      <th>SEQN</th>\n",
       "      <th>SDDSRVYR</th>\n",
       "      <th>RIDSTATR</th>\n",
       "      <th>RIAGENDR</th>\n",
       "      <th>RIDAGEYR</th>\n",
       "      <th>RIDAGEMN</th>\n",
       "      <th>RIDRETH1</th>\n",
       "      <th>RIDRETH3</th>\n",
       "      <th>RIDEXMON</th>\n",
       "      <th>RIDEXAGM</th>\n",
       "      <th>...</th>\n",
       "      <th>DMDHREDU</th>\n",
       "      <th>DMDHRMAR</th>\n",
       "      <th>DMDHSEDU</th>\n",
       "      <th>WTINT2YR</th>\n",
       "      <th>WTMEC2YR</th>\n",
       "      <th>SDMVPSU</th>\n",
       "      <th>SDMVSTRA</th>\n",
       "      <th>INDHHIN2</th>\n",
       "      <th>INDFMIN2</th>\n",
       "      <th>INDFMPIR</th>\n",
       "    </tr>\n",
       "  </thead>\n",
       "  <tbody>\n",
       "    <tr>\n",
       "      <th>0</th>\n",
       "      <td>73557.0</td>\n",
       "      <td>8.0</td>\n",
       "      <td>2.0</td>\n",
       "      <td>1.0</td>\n",
       "      <td>69.0</td>\n",
       "      <td>NaN</td>\n",
       "      <td>4.0</td>\n",
       "      <td>4.0</td>\n",
       "      <td>1.0</td>\n",
       "      <td>NaN</td>\n",
       "      <td>...</td>\n",
       "      <td>3.0</td>\n",
       "      <td>4.0</td>\n",
       "      <td>NaN</td>\n",
       "      <td>13281.237386</td>\n",
       "      <td>13481.042095</td>\n",
       "      <td>1.0</td>\n",
       "      <td>112.0</td>\n",
       "      <td>4.0</td>\n",
       "      <td>4.0</td>\n",
       "      <td>0.84</td>\n",
       "    </tr>\n",
       "    <tr>\n",
       "      <th>1</th>\n",
       "      <td>73558.0</td>\n",
       "      <td>8.0</td>\n",
       "      <td>2.0</td>\n",
       "      <td>1.0</td>\n",
       "      <td>54.0</td>\n",
       "      <td>NaN</td>\n",
       "      <td>3.0</td>\n",
       "      <td>3.0</td>\n",
       "      <td>1.0</td>\n",
       "      <td>NaN</td>\n",
       "      <td>...</td>\n",
       "      <td>3.0</td>\n",
       "      <td>1.0</td>\n",
       "      <td>1.0</td>\n",
       "      <td>23682.057386</td>\n",
       "      <td>24471.769625</td>\n",
       "      <td>1.0</td>\n",
       "      <td>108.0</td>\n",
       "      <td>7.0</td>\n",
       "      <td>7.0</td>\n",
       "      <td>1.78</td>\n",
       "    </tr>\n",
       "    <tr>\n",
       "      <th>2</th>\n",
       "      <td>73559.0</td>\n",
       "      <td>8.0</td>\n",
       "      <td>2.0</td>\n",
       "      <td>1.0</td>\n",
       "      <td>72.0</td>\n",
       "      <td>NaN</td>\n",
       "      <td>3.0</td>\n",
       "      <td>3.0</td>\n",
       "      <td>2.0</td>\n",
       "      <td>NaN</td>\n",
       "      <td>...</td>\n",
       "      <td>4.0</td>\n",
       "      <td>1.0</td>\n",
       "      <td>3.0</td>\n",
       "      <td>57214.803319</td>\n",
       "      <td>57193.285376</td>\n",
       "      <td>1.0</td>\n",
       "      <td>109.0</td>\n",
       "      <td>10.0</td>\n",
       "      <td>10.0</td>\n",
       "      <td>4.51</td>\n",
       "    </tr>\n",
       "    <tr>\n",
       "      <th>3</th>\n",
       "      <td>73560.0</td>\n",
       "      <td>8.0</td>\n",
       "      <td>2.0</td>\n",
       "      <td>1.0</td>\n",
       "      <td>9.0</td>\n",
       "      <td>NaN</td>\n",
       "      <td>3.0</td>\n",
       "      <td>3.0</td>\n",
       "      <td>1.0</td>\n",
       "      <td>119.0</td>\n",
       "      <td>...</td>\n",
       "      <td>3.0</td>\n",
       "      <td>1.0</td>\n",
       "      <td>4.0</td>\n",
       "      <td>55201.178592</td>\n",
       "      <td>55766.512438</td>\n",
       "      <td>2.0</td>\n",
       "      <td>109.0</td>\n",
       "      <td>9.0</td>\n",
       "      <td>9.0</td>\n",
       "      <td>2.52</td>\n",
       "    </tr>\n",
       "    <tr>\n",
       "      <th>4</th>\n",
       "      <td>73561.0</td>\n",
       "      <td>8.0</td>\n",
       "      <td>2.0</td>\n",
       "      <td>2.0</td>\n",
       "      <td>73.0</td>\n",
       "      <td>NaN</td>\n",
       "      <td>3.0</td>\n",
       "      <td>3.0</td>\n",
       "      <td>1.0</td>\n",
       "      <td>NaN</td>\n",
       "      <td>...</td>\n",
       "      <td>5.0</td>\n",
       "      <td>1.0</td>\n",
       "      <td>5.0</td>\n",
       "      <td>63709.667069</td>\n",
       "      <td>65541.871229</td>\n",
       "      <td>2.0</td>\n",
       "      <td>116.0</td>\n",
       "      <td>15.0</td>\n",
       "      <td>15.0</td>\n",
       "      <td>5.00</td>\n",
       "    </tr>\n",
       "  </tbody>\n",
       "</table>\n",
       "<p>5 rows × 47 columns</p>\n",
       "</div>"
      ],
      "text/plain": [
       "      SEQN  SDDSRVYR  RIDSTATR  RIAGENDR  RIDAGEYR  RIDAGEMN  RIDRETH1  \\\n",
       "0  73557.0       8.0       2.0       1.0      69.0       NaN       4.0   \n",
       "1  73558.0       8.0       2.0       1.0      54.0       NaN       3.0   \n",
       "2  73559.0       8.0       2.0       1.0      72.0       NaN       3.0   \n",
       "3  73560.0       8.0       2.0       1.0       9.0       NaN       3.0   \n",
       "4  73561.0       8.0       2.0       2.0      73.0       NaN       3.0   \n",
       "\n",
       "   RIDRETH3  RIDEXMON  RIDEXAGM    ...     DMDHREDU  DMDHRMAR  DMDHSEDU  \\\n",
       "0       4.0       1.0       NaN    ...          3.0       4.0       NaN   \n",
       "1       3.0       1.0       NaN    ...          3.0       1.0       1.0   \n",
       "2       3.0       2.0       NaN    ...          4.0       1.0       3.0   \n",
       "3       3.0       1.0     119.0    ...          3.0       1.0       4.0   \n",
       "4       3.0       1.0       NaN    ...          5.0       1.0       5.0   \n",
       "\n",
       "       WTINT2YR      WTMEC2YR  SDMVPSU  SDMVSTRA  INDHHIN2  INDFMIN2  INDFMPIR  \n",
       "0  13281.237386  13481.042095      1.0     112.0       4.0       4.0      0.84  \n",
       "1  23682.057386  24471.769625      1.0     108.0       7.0       7.0      1.78  \n",
       "2  57214.803319  57193.285376      1.0     109.0      10.0      10.0      4.51  \n",
       "3  55201.178592  55766.512438      2.0     109.0       9.0       9.0      2.52  \n",
       "4  63709.667069  65541.871229      2.0     116.0      15.0      15.0      5.00  \n",
       "\n",
       "[5 rows x 47 columns]"
      ]
     },
     "execution_count": 21,
     "metadata": {},
     "output_type": "execute_result"
    }
   ],
   "source": [
    "#load demographic data\n",
    "demo = pd.read_sas('../data/DEMO_H.XPT', encoding='unicode-escape')\n",
    "demo.head()\n"
   ]
  },
  {
   "cell_type": "code",
   "execution_count": 22,
   "metadata": {
    "collapsed": false
   },
   "outputs": [
    {
     "data": {
      "text/html": [
       "<div>\n",
       "<table border=\"1\" class=\"dataframe\">\n",
       "  <thead>\n",
       "    <tr style=\"text-align: right;\">\n",
       "      <th></th>\n",
       "      <th>SEQN</th>\n",
       "      <th>RIAGENDR</th>\n",
       "      <th>RIDAGEYR</th>\n",
       "      <th>RIDRETH3</th>\n",
       "      <th>DMDBORN4</th>\n",
       "      <th>DMDCITZN</th>\n",
       "      <th>DMDYRSUS</th>\n",
       "      <th>DMDEDUC3</th>\n",
       "      <th>DMDEDUC2</th>\n",
       "      <th>DMDMARTL</th>\n",
       "      <th>...</th>\n",
       "      <th>DMDHREDU</th>\n",
       "      <th>DMDHRMAR</th>\n",
       "      <th>DMDHSEDU</th>\n",
       "      <th>WTINT2YR</th>\n",
       "      <th>WTMEC2YR</th>\n",
       "      <th>SDMVPSU</th>\n",
       "      <th>SDMVSTRA</th>\n",
       "      <th>INDHHIN2</th>\n",
       "      <th>INDFMIN2</th>\n",
       "      <th>INDFMPIR</th>\n",
       "    </tr>\n",
       "  </thead>\n",
       "  <tbody>\n",
       "    <tr>\n",
       "      <th>0</th>\n",
       "      <td>73557.0</td>\n",
       "      <td>1.0</td>\n",
       "      <td>69.0</td>\n",
       "      <td>4.0</td>\n",
       "      <td>1.0</td>\n",
       "      <td>1.0</td>\n",
       "      <td>NaN</td>\n",
       "      <td>NaN</td>\n",
       "      <td>3.0</td>\n",
       "      <td>4.0</td>\n",
       "      <td>...</td>\n",
       "      <td>3.0</td>\n",
       "      <td>4.0</td>\n",
       "      <td>NaN</td>\n",
       "      <td>13281.237386</td>\n",
       "      <td>13481.042095</td>\n",
       "      <td>1.0</td>\n",
       "      <td>112.0</td>\n",
       "      <td>4.0</td>\n",
       "      <td>4.0</td>\n",
       "      <td>0.84</td>\n",
       "    </tr>\n",
       "    <tr>\n",
       "      <th>1</th>\n",
       "      <td>73558.0</td>\n",
       "      <td>1.0</td>\n",
       "      <td>54.0</td>\n",
       "      <td>3.0</td>\n",
       "      <td>1.0</td>\n",
       "      <td>1.0</td>\n",
       "      <td>NaN</td>\n",
       "      <td>NaN</td>\n",
       "      <td>3.0</td>\n",
       "      <td>1.0</td>\n",
       "      <td>...</td>\n",
       "      <td>3.0</td>\n",
       "      <td>1.0</td>\n",
       "      <td>1.0</td>\n",
       "      <td>23682.057386</td>\n",
       "      <td>24471.769625</td>\n",
       "      <td>1.0</td>\n",
       "      <td>108.0</td>\n",
       "      <td>7.0</td>\n",
       "      <td>7.0</td>\n",
       "      <td>1.78</td>\n",
       "    </tr>\n",
       "    <tr>\n",
       "      <th>2</th>\n",
       "      <td>73559.0</td>\n",
       "      <td>1.0</td>\n",
       "      <td>72.0</td>\n",
       "      <td>3.0</td>\n",
       "      <td>1.0</td>\n",
       "      <td>1.0</td>\n",
       "      <td>NaN</td>\n",
       "      <td>NaN</td>\n",
       "      <td>4.0</td>\n",
       "      <td>1.0</td>\n",
       "      <td>...</td>\n",
       "      <td>4.0</td>\n",
       "      <td>1.0</td>\n",
       "      <td>3.0</td>\n",
       "      <td>57214.803319</td>\n",
       "      <td>57193.285376</td>\n",
       "      <td>1.0</td>\n",
       "      <td>109.0</td>\n",
       "      <td>10.0</td>\n",
       "      <td>10.0</td>\n",
       "      <td>4.51</td>\n",
       "    </tr>\n",
       "    <tr>\n",
       "      <th>3</th>\n",
       "      <td>73560.0</td>\n",
       "      <td>1.0</td>\n",
       "      <td>9.0</td>\n",
       "      <td>3.0</td>\n",
       "      <td>1.0</td>\n",
       "      <td>1.0</td>\n",
       "      <td>NaN</td>\n",
       "      <td>3.0</td>\n",
       "      <td>NaN</td>\n",
       "      <td>NaN</td>\n",
       "      <td>...</td>\n",
       "      <td>3.0</td>\n",
       "      <td>1.0</td>\n",
       "      <td>4.0</td>\n",
       "      <td>55201.178592</td>\n",
       "      <td>55766.512438</td>\n",
       "      <td>2.0</td>\n",
       "      <td>109.0</td>\n",
       "      <td>9.0</td>\n",
       "      <td>9.0</td>\n",
       "      <td>2.52</td>\n",
       "    </tr>\n",
       "    <tr>\n",
       "      <th>4</th>\n",
       "      <td>73561.0</td>\n",
       "      <td>2.0</td>\n",
       "      <td>73.0</td>\n",
       "      <td>3.0</td>\n",
       "      <td>1.0</td>\n",
       "      <td>1.0</td>\n",
       "      <td>NaN</td>\n",
       "      <td>NaN</td>\n",
       "      <td>5.0</td>\n",
       "      <td>1.0</td>\n",
       "      <td>...</td>\n",
       "      <td>5.0</td>\n",
       "      <td>1.0</td>\n",
       "      <td>5.0</td>\n",
       "      <td>63709.667069</td>\n",
       "      <td>65541.871229</td>\n",
       "      <td>2.0</td>\n",
       "      <td>116.0</td>\n",
       "      <td>15.0</td>\n",
       "      <td>15.0</td>\n",
       "      <td>5.00</td>\n",
       "    </tr>\n",
       "  </tbody>\n",
       "</table>\n",
       "<p>5 rows × 39 columns</p>\n",
       "</div>"
      ],
      "text/plain": [
       "      SEQN  RIAGENDR  RIDAGEYR  RIDRETH3  DMDBORN4  DMDCITZN  DMDYRSUS  \\\n",
       "0  73557.0       1.0      69.0       4.0       1.0       1.0       NaN   \n",
       "1  73558.0       1.0      54.0       3.0       1.0       1.0       NaN   \n",
       "2  73559.0       1.0      72.0       3.0       1.0       1.0       NaN   \n",
       "3  73560.0       1.0       9.0       3.0       1.0       1.0       NaN   \n",
       "4  73561.0       2.0      73.0       3.0       1.0       1.0       NaN   \n",
       "\n",
       "   DMDEDUC3  DMDEDUC2  DMDMARTL    ...     DMDHREDU  DMDHRMAR  DMDHSEDU  \\\n",
       "0       NaN       3.0       4.0    ...          3.0       4.0       NaN   \n",
       "1       NaN       3.0       1.0    ...          3.0       1.0       1.0   \n",
       "2       NaN       4.0       1.0    ...          4.0       1.0       3.0   \n",
       "3       3.0       NaN       NaN    ...          3.0       1.0       4.0   \n",
       "4       NaN       5.0       1.0    ...          5.0       1.0       5.0   \n",
       "\n",
       "       WTINT2YR      WTMEC2YR  SDMVPSU  SDMVSTRA  INDHHIN2  INDFMIN2  INDFMPIR  \n",
       "0  13281.237386  13481.042095      1.0     112.0       4.0       4.0      0.84  \n",
       "1  23682.057386  24471.769625      1.0     108.0       7.0       7.0      1.78  \n",
       "2  57214.803319  57193.285376      1.0     109.0      10.0      10.0      4.51  \n",
       "3  55201.178592  55766.512438      2.0     109.0       9.0       9.0      2.52  \n",
       "4  63709.667069  65541.871229      2.0     116.0      15.0      15.0      5.00  \n",
       "\n",
       "[5 rows x 39 columns]"
      ]
     },
     "execution_count": 22,
     "metadata": {},
     "output_type": "execute_result"
    }
   ],
   "source": [
    "demo_new = demo.drop(['SDDSRVYR', 'RIDSTATR', 'RIDAGEMN', 'RIDRETH1','RIDEXMON', 'RIDEXAGM', 'DMQMILIZ', 'DMQADFC'], axis = 1)\n",
    "demo_new.head()"
   ]
  },
  {
   "cell_type": "code",
   "execution_count": 23,
   "metadata": {
    "collapsed": false
   },
   "outputs": [
    {
     "data": {
      "text/html": [
       "<div>\n",
       "<table border=\"1\" class=\"dataframe\">\n",
       "  <thead>\n",
       "    <tr style=\"text-align: right;\">\n",
       "      <th></th>\n",
       "      <th>SEQN</th>\n",
       "      <th>RIAGENDR</th>\n",
       "      <th>RIDAGEYR</th>\n",
       "      <th>RIDRETH3</th>\n",
       "      <th>INDHHIN2</th>\n",
       "    </tr>\n",
       "  </thead>\n",
       "  <tbody>\n",
       "    <tr>\n",
       "      <th>0</th>\n",
       "      <td>73557.0</td>\n",
       "      <td>1.0</td>\n",
       "      <td>69.0</td>\n",
       "      <td>4.0</td>\n",
       "      <td>4.0</td>\n",
       "    </tr>\n",
       "    <tr>\n",
       "      <th>1</th>\n",
       "      <td>73558.0</td>\n",
       "      <td>1.0</td>\n",
       "      <td>54.0</td>\n",
       "      <td>3.0</td>\n",
       "      <td>7.0</td>\n",
       "    </tr>\n",
       "    <tr>\n",
       "      <th>2</th>\n",
       "      <td>73559.0</td>\n",
       "      <td>1.0</td>\n",
       "      <td>72.0</td>\n",
       "      <td>3.0</td>\n",
       "      <td>10.0</td>\n",
       "    </tr>\n",
       "    <tr>\n",
       "      <th>3</th>\n",
       "      <td>73560.0</td>\n",
       "      <td>1.0</td>\n",
       "      <td>9.0</td>\n",
       "      <td>3.0</td>\n",
       "      <td>9.0</td>\n",
       "    </tr>\n",
       "    <tr>\n",
       "      <th>4</th>\n",
       "      <td>73561.0</td>\n",
       "      <td>2.0</td>\n",
       "      <td>73.0</td>\n",
       "      <td>3.0</td>\n",
       "      <td>15.0</td>\n",
       "    </tr>\n",
       "  </tbody>\n",
       "</table>\n",
       "</div>"
      ],
      "text/plain": [
       "      SEQN  RIAGENDR  RIDAGEYR  RIDRETH3  INDHHIN2\n",
       "0  73557.0       1.0      69.0       4.0       4.0\n",
       "1  73558.0       1.0      54.0       3.0       7.0\n",
       "2  73559.0       1.0      72.0       3.0      10.0\n",
       "3  73560.0       1.0       9.0       3.0       9.0\n",
       "4  73561.0       2.0      73.0       3.0      15.0"
      ]
     },
     "execution_count": 23,
     "metadata": {},
     "output_type": "execute_result"
    }
   ],
   "source": [
    "_demo1 = demo_new.drop(demo_new.columns[4:36], axis=1)\n",
    "_demo = _demo1.drop(['INDFMIN2', 'INDFMPIR'], axis=1)\n",
    "_demo.head()"
   ]
  },
  {
   "cell_type": "code",
   "execution_count": 24,
   "metadata": {
    "collapsed": false
   },
   "outputs": [
    {
     "data": {
      "text/html": [
       "<div>\n",
       "<table border=\"1\" class=\"dataframe\">\n",
       "  <thead>\n",
       "    <tr style=\"text-align: right;\">\n",
       "      <th></th>\n",
       "      <th>id</th>\n",
       "      <th>gender</th>\n",
       "      <th>age</th>\n",
       "      <th>race</th>\n",
       "      <th>house_hold</th>\n",
       "    </tr>\n",
       "  </thead>\n",
       "  <tbody>\n",
       "    <tr>\n",
       "      <th>0</th>\n",
       "      <td>73557.0</td>\n",
       "      <td>1.0</td>\n",
       "      <td>69.0</td>\n",
       "      <td>4.0</td>\n",
       "      <td>4.0</td>\n",
       "    </tr>\n",
       "    <tr>\n",
       "      <th>1</th>\n",
       "      <td>73558.0</td>\n",
       "      <td>1.0</td>\n",
       "      <td>54.0</td>\n",
       "      <td>3.0</td>\n",
       "      <td>7.0</td>\n",
       "    </tr>\n",
       "    <tr>\n",
       "      <th>2</th>\n",
       "      <td>73559.0</td>\n",
       "      <td>1.0</td>\n",
       "      <td>72.0</td>\n",
       "      <td>3.0</td>\n",
       "      <td>10.0</td>\n",
       "    </tr>\n",
       "    <tr>\n",
       "      <th>3</th>\n",
       "      <td>73560.0</td>\n",
       "      <td>1.0</td>\n",
       "      <td>9.0</td>\n",
       "      <td>3.0</td>\n",
       "      <td>9.0</td>\n",
       "    </tr>\n",
       "    <tr>\n",
       "      <th>4</th>\n",
       "      <td>73561.0</td>\n",
       "      <td>2.0</td>\n",
       "      <td>73.0</td>\n",
       "      <td>3.0</td>\n",
       "      <td>15.0</td>\n",
       "    </tr>\n",
       "  </tbody>\n",
       "</table>\n",
       "</div>"
      ],
      "text/plain": [
       "        id  gender   age  race  house_hold\n",
       "0  73557.0     1.0  69.0   4.0         4.0\n",
       "1  73558.0     1.0  54.0   3.0         7.0\n",
       "2  73559.0     1.0  72.0   3.0        10.0\n",
       "3  73560.0     1.0   9.0   3.0         9.0\n",
       "4  73561.0     2.0  73.0   3.0        15.0"
      ]
     },
     "execution_count": 24,
     "metadata": {},
     "output_type": "execute_result"
    }
   ],
   "source": [
    "demoColumn = ['id', 'gender', 'age', 'race', 'house_hold']\n",
    "_demo.columns = demoColumn\n",
    "_demo.head()"
   ]
  },
  {
   "cell_type": "code",
   "execution_count": 25,
   "metadata": {
    "collapsed": false
   },
   "outputs": [
    {
     "data": {
      "text/plain": [
       "id            False\n",
       "gender        False\n",
       "age           False\n",
       "race          False\n",
       "house_hold    False\n",
       "dtype: bool"
      ]
     },
     "execution_count": 25,
     "metadata": {},
     "output_type": "execute_result"
    }
   ],
   "source": [
    "_demo['house_hold'] = _demo['house_hold'].fillna(99)\n",
    "_demo.isnull().any()"
   ]
  },
  {
   "cell_type": "code",
   "execution_count": 26,
   "metadata": {
    "collapsed": false
   },
   "outputs": [
    {
     "data": {
      "text/html": [
       "<div>\n",
       "<table border=\"1\" class=\"dataframe\">\n",
       "  <thead>\n",
       "    <tr style=\"text-align: right;\">\n",
       "      <th></th>\n",
       "      <th>id</th>\n",
       "      <th>hour_sleep</th>\n",
       "      <th>d_disorder</th>\n",
       "      <th>d_diabetes</th>\n",
       "      <th>gender</th>\n",
       "      <th>age</th>\n",
       "      <th>race</th>\n",
       "      <th>house_hold</th>\n",
       "    </tr>\n",
       "  </thead>\n",
       "  <tbody>\n",
       "    <tr>\n",
       "      <th>0</th>\n",
       "      <td>73557.0</td>\n",
       "      <td>7.0</td>\n",
       "      <td>0</td>\n",
       "      <td>1</td>\n",
       "      <td>1.0</td>\n",
       "      <td>69.0</td>\n",
       "      <td>4.0</td>\n",
       "      <td>4.0</td>\n",
       "    </tr>\n",
       "    <tr>\n",
       "      <th>1</th>\n",
       "      <td>73558.0</td>\n",
       "      <td>9.0</td>\n",
       "      <td>0</td>\n",
       "      <td>1</td>\n",
       "      <td>1.0</td>\n",
       "      <td>54.0</td>\n",
       "      <td>3.0</td>\n",
       "      <td>7.0</td>\n",
       "    </tr>\n",
       "    <tr>\n",
       "      <th>2</th>\n",
       "      <td>73559.0</td>\n",
       "      <td>8.0</td>\n",
       "      <td>0</td>\n",
       "      <td>1</td>\n",
       "      <td>1.0</td>\n",
       "      <td>72.0</td>\n",
       "      <td>3.0</td>\n",
       "      <td>10.0</td>\n",
       "    </tr>\n",
       "    <tr>\n",
       "      <th>3</th>\n",
       "      <td>73561.0</td>\n",
       "      <td>9.0</td>\n",
       "      <td>0</td>\n",
       "      <td>0</td>\n",
       "      <td>2.0</td>\n",
       "      <td>73.0</td>\n",
       "      <td>3.0</td>\n",
       "      <td>15.0</td>\n",
       "    </tr>\n",
       "    <tr>\n",
       "      <th>4</th>\n",
       "      <td>73562.0</td>\n",
       "      <td>5.0</td>\n",
       "      <td>1</td>\n",
       "      <td>0</td>\n",
       "      <td>1.0</td>\n",
       "      <td>56.0</td>\n",
       "      <td>1.0</td>\n",
       "      <td>9.0</td>\n",
       "    </tr>\n",
       "  </tbody>\n",
       "</table>\n",
       "</div>"
      ],
      "text/plain": [
       "        id  hour_sleep  d_disorder  d_diabetes  gender   age  race  house_hold\n",
       "0  73557.0         7.0           0           1     1.0  69.0   4.0         4.0\n",
       "1  73558.0         9.0           0           1     1.0  54.0   3.0         7.0\n",
       "2  73559.0         8.0           0           1     1.0  72.0   3.0        10.0\n",
       "3  73561.0         9.0           0           0     2.0  73.0   3.0        15.0\n",
       "4  73562.0         5.0           1           0     1.0  56.0   1.0         9.0"
      ]
     },
     "execution_count": 26,
     "metadata": {},
     "output_type": "execute_result"
    }
   ],
   "source": [
    "sd_1 = pd.merge(sp, _demo, on='id')\n",
    "sd_1.head()"
   ]
  },
  {
   "cell_type": "code",
   "execution_count": 28,
   "metadata": {
    "collapsed": false
   },
   "outputs": [
    {
     "data": {
      "text/plain": [
       "<matplotlib.axes._subplots.AxesSubplot at 0x11392e090>"
      ]
     },
     "execution_count": 28,
     "metadata": {},
     "output_type": "execute_result"
    },
    {
     "data": {
      "image/png": "[encoded data removed]",
      "text/plain": [
       "<matplotlib.figure.Figure at 0x11394c8d0>"
      ]
     },
     "metadata": {},
     "output_type": "display_data"
    }
   ],
   "source": [
    "#sd_1.drop(['diag_disorder'], axis=1, inplace=True)\n",
    "sns.heatmap(sd_1.corr())"
   ]
  },
  {
   "cell_type": "code",
   "execution_count": 29,
   "metadata": {
    "collapsed": false
   },
   "outputs": [
    {
     "data": {
      "text/html": [
       "<div>\n",
       "<table border=\"1\" class=\"dataframe\">\n",
       "  <thead>\n",
       "    <tr style=\"text-align: right;\">\n",
       "      <th></th>\n",
       "      <th>id</th>\n",
       "      <th>hour_sleep</th>\n",
       "      <th>d_disorder</th>\n",
       "      <th>d_diabetes</th>\n",
       "      <th>gender</th>\n",
       "      <th>age</th>\n",
       "      <th>race</th>\n",
       "      <th>house_hold</th>\n",
       "      <th>race__1.0</th>\n",
       "      <th>race__2.0</th>\n",
       "      <th>race__3.0</th>\n",
       "      <th>race__4.0</th>\n",
       "      <th>race__6.0</th>\n",
       "      <th>race__7.0</th>\n",
       "    </tr>\n",
       "  </thead>\n",
       "  <tbody>\n",
       "    <tr>\n",
       "      <th>0</th>\n",
       "      <td>73557.0</td>\n",
       "      <td>7.0</td>\n",
       "      <td>0</td>\n",
       "      <td>1</td>\n",
       "      <td>1.0</td>\n",
       "      <td>69.0</td>\n",
       "      <td>4.0</td>\n",
       "      <td>4.0</td>\n",
       "      <td>0</td>\n",
       "      <td>0</td>\n",
       "      <td>0</td>\n",
       "      <td>1</td>\n",
       "      <td>0</td>\n",
       "      <td>0</td>\n",
       "    </tr>\n",
       "    <tr>\n",
       "      <th>1</th>\n",
       "      <td>73558.0</td>\n",
       "      <td>9.0</td>\n",
       "      <td>0</td>\n",
       "      <td>1</td>\n",
       "      <td>1.0</td>\n",
       "      <td>54.0</td>\n",
       "      <td>3.0</td>\n",
       "      <td>7.0</td>\n",
       "      <td>0</td>\n",
       "      <td>0</td>\n",
       "      <td>1</td>\n",
       "      <td>0</td>\n",
       "      <td>0</td>\n",
       "      <td>0</td>\n",
       "    </tr>\n",
       "    <tr>\n",
       "      <th>2</th>\n",
       "      <td>73559.0</td>\n",
       "      <td>8.0</td>\n",
       "      <td>0</td>\n",
       "      <td>1</td>\n",
       "      <td>1.0</td>\n",
       "      <td>72.0</td>\n",
       "      <td>3.0</td>\n",
       "      <td>10.0</td>\n",
       "      <td>0</td>\n",
       "      <td>0</td>\n",
       "      <td>1</td>\n",
       "      <td>0</td>\n",
       "      <td>0</td>\n",
       "      <td>0</td>\n",
       "    </tr>\n",
       "    <tr>\n",
       "      <th>3</th>\n",
       "      <td>73561.0</td>\n",
       "      <td>9.0</td>\n",
       "      <td>0</td>\n",
       "      <td>0</td>\n",
       "      <td>2.0</td>\n",
       "      <td>73.0</td>\n",
       "      <td>3.0</td>\n",
       "      <td>15.0</td>\n",
       "      <td>0</td>\n",
       "      <td>0</td>\n",
       "      <td>1</td>\n",
       "      <td>0</td>\n",
       "      <td>0</td>\n",
       "      <td>0</td>\n",
       "    </tr>\n",
       "    <tr>\n",
       "      <th>4</th>\n",
       "      <td>73562.0</td>\n",
       "      <td>5.0</td>\n",
       "      <td>1</td>\n",
       "      <td>0</td>\n",
       "      <td>1.0</td>\n",
       "      <td>56.0</td>\n",
       "      <td>1.0</td>\n",
       "      <td>9.0</td>\n",
       "      <td>1</td>\n",
       "      <td>0</td>\n",
       "      <td>0</td>\n",
       "      <td>0</td>\n",
       "      <td>0</td>\n",
       "      <td>0</td>\n",
       "    </tr>\n",
       "  </tbody>\n",
       "</table>\n",
       "</div>"
      ],
      "text/plain": [
       "        id  hour_sleep  d_disorder  d_diabetes  gender   age  race  \\\n",
       "0  73557.0         7.0           0           1     1.0  69.0   4.0   \n",
       "1  73558.0         9.0           0           1     1.0  54.0   3.0   \n",
       "2  73559.0         8.0           0           1     1.0  72.0   3.0   \n",
       "3  73561.0         9.0           0           0     2.0  73.0   3.0   \n",
       "4  73562.0         5.0           1           0     1.0  56.0   1.0   \n",
       "\n",
       "   house_hold  race__1.0  race__2.0  race__3.0  race__4.0  race__6.0  \\\n",
       "0         4.0          0          0          0          1          0   \n",
       "1         7.0          0          0          1          0          0   \n",
       "2        10.0          0          0          1          0          0   \n",
       "3        15.0          0          0          1          0          0   \n",
       "4         9.0          1          0          0          0          0   \n",
       "\n",
       "   race__7.0  \n",
       "0          0  \n",
       "1          0  \n",
       "2          0  \n",
       "3          0  \n",
       "4          0  "
      ]
     },
     "execution_count": 29,
     "metadata": {},
     "output_type": "execute_result"
    }
   ],
   "source": [
    "race_column = pd.get_dummies(sd_1['race'], prefix='race_')\n",
    "sd_race = pd.concat([sd_1, race_column], axis=1)\n",
    "sd_race.head()"
   ]
  },
  {
   "cell_type": "code",
   "execution_count": 30,
   "metadata": {
    "collapsed": false
   },
   "outputs": [
    {
     "data": {
      "text/plain": [
       "0    0.859684\n",
       "1    0.140316\n",
       "Name: d_diabetes, dtype: float64"
      ]
     },
     "execution_count": 30,
     "metadata": {},
     "output_type": "execute_result"
    }
   ],
   "source": [
    "income_column = pd.get_dummies(sd_race['house_hold'], prefix='inc_')\n",
    "sd_f = pd.concat([sd_race, income_column], axis=1)\n",
    "sd_final = sd_f.drop('id', axis =1)\n",
    "#get null value\n",
    "sd_final['d_diabetes'].value_counts() / sd_final.shape[0]"
   ]
  },
  {
   "cell_type": "code",
   "execution_count": 31,
   "metadata": {
    "collapsed": false
   },
   "outputs": [
    {
     "data": {
      "text/plain": [
       "<matplotlib.axes._subplots.AxesSubplot at 0x1139ec690>"
      ]
     },
     "execution_count": 31,
     "metadata": {},
     "output_type": "execute_result"
    },
    {
     "data": {
      "image/png": "[encoded data removed]",
      "text/plain": [
       "<matplotlib.figure.Figure at 0x1139e3450>"
      ]
     },
     "metadata": {},
     "output_type": "display_data"
    }
   ],
   "source": [
    "sns.heatmap(sd_final.corr())\n"
   ]
  },
  {
   "cell_type": "code",
   "execution_count": 32,
   "metadata": {
    "collapsed": false
   },
   "outputs": [],
   "source": [
    "sd_X = sd_final.drop(['d_diabetes', 'race','house_hold'], axis = 1)\n",
    "sd_y = sd_final['d_diabetes']\n"
   ]
  },
  {
   "cell_type": "code",
   "execution_count": 33,
   "metadata": {
    "collapsed": false
   },
   "outputs": [
    {
     "data": {
      "text/plain": [
       "0.85767326732673266"
      ]
     },
     "execution_count": 33,
     "metadata": {},
     "output_type": "execute_result"
    }
   ],
   "source": [
    "from sklearn.linear_model import LogisticRegression\n",
    "model = LogisticRegression()\n",
    "model = model.fit(sd_X, sd_y)\n",
    "\n",
    "# check the accuracy on the training set\n",
    "model.score(sd_X, sd_y)"
   ]
  },
  {
   "cell_type": "code",
   "execution_count": 34,
   "metadata": {
    "collapsed": false
   },
   "outputs": [
    {
     "name": "stdout",
     "output_type": "stream",
     "text": [
      "[-3.38819083]\n",
      "[[ -4.54902295e-02   1.01580953e+00  -6.51276893e-02   5.24993181e-02\n",
      "   -2.34420567e-01  -5.18647905e-01  -1.03250420e+00  -4.35943418e-01\n",
      "   -6.28534741e-01  -5.38140002e-01   1.27292568e-01  -1.04513705e-01\n",
      "   -6.37256498e-02  -1.48012649e-01  -3.09106645e-04  -1.63325621e-01\n",
      "   -9.17297805e-02  -4.20468086e-01  -2.44092456e-02   9.07053910e-02\n",
      "   -5.04251225e-01  -6.62002012e-01  -1.41268078e-01  -5.06884759e-01\n",
      "   -6.07638882e-01  -1.67649994e-01]]\n"
     ]
    }
   ],
   "source": [
    "# print the coefficients\n",
    "print model.intercept_\n",
    "print model.coef_"
   ]
  },
  {
   "cell_type": "code",
   "execution_count": 35,
   "metadata": {
    "collapsed": false
   },
   "outputs": [
    {
     "data": {
      "text/html": [
       "<div>\n",
       "<table border=\"1\" class=\"dataframe\">\n",
       "  <thead>\n",
       "    <tr style=\"text-align: right;\">\n",
       "      <th></th>\n",
       "      <th>hour_sleep</th>\n",
       "      <th>d_disorder</th>\n",
       "      <th>gender</th>\n",
       "      <th>age</th>\n",
       "      <th>race__1.0</th>\n",
       "      <th>race__2.0</th>\n",
       "      <th>race__3.0</th>\n",
       "      <th>race__4.0</th>\n",
       "      <th>race__6.0</th>\n",
       "      <th>race__7.0</th>\n",
       "      <th>...</th>\n",
       "      <th>inc__7.0</th>\n",
       "      <th>inc__8.0</th>\n",
       "      <th>inc__9.0</th>\n",
       "      <th>inc__10.0</th>\n",
       "      <th>inc__12.0</th>\n",
       "      <th>inc__13.0</th>\n",
       "      <th>inc__14.0</th>\n",
       "      <th>inc__15.0</th>\n",
       "      <th>inc__77.0</th>\n",
       "      <th>inc__99.0</th>\n",
       "    </tr>\n",
       "  </thead>\n",
       "  <tbody>\n",
       "    <tr>\n",
       "      <th>count</th>\n",
       "      <td>6464.000000</td>\n",
       "      <td>6464.000000</td>\n",
       "      <td>6464.000000</td>\n",
       "      <td>6464.000000</td>\n",
       "      <td>6464.000000</td>\n",
       "      <td>6464.000000</td>\n",
       "      <td>6464.000000</td>\n",
       "      <td>6464.000000</td>\n",
       "      <td>6464.000000</td>\n",
       "      <td>6464.000000</td>\n",
       "      <td>...</td>\n",
       "      <td>6464.000000</td>\n",
       "      <td>6464.000000</td>\n",
       "      <td>6464.000000</td>\n",
       "      <td>6464.000000</td>\n",
       "      <td>6464.00000</td>\n",
       "      <td>6464.000000</td>\n",
       "      <td>6464.000000</td>\n",
       "      <td>6464.000000</td>\n",
       "      <td>6464.000000</td>\n",
       "      <td>6464.000000</td>\n",
       "    </tr>\n",
       "    <tr>\n",
       "      <th>mean</th>\n",
       "      <td>6.950650</td>\n",
       "      <td>0.089573</td>\n",
       "      <td>1.521658</td>\n",
       "      <td>45.704053</td>\n",
       "      <td>0.143874</td>\n",
       "      <td>0.089264</td>\n",
       "      <td>0.411046</td>\n",
       "      <td>0.207302</td>\n",
       "      <td>0.116337</td>\n",
       "      <td>0.032178</td>\n",
       "      <td>...</td>\n",
       "      <td>0.090037</td>\n",
       "      <td>0.076887</td>\n",
       "      <td>0.055693</td>\n",
       "      <td>0.040068</td>\n",
       "      <td>0.03651</td>\n",
       "      <td>0.011139</td>\n",
       "      <td>0.082302</td>\n",
       "      <td>0.181312</td>\n",
       "      <td>0.025835</td>\n",
       "      <td>0.022432</td>\n",
       "    </tr>\n",
       "    <tr>\n",
       "      <th>std</th>\n",
       "      <td>1.427025</td>\n",
       "      <td>0.285591</td>\n",
       "      <td>0.499569</td>\n",
       "      <td>19.282154</td>\n",
       "      <td>0.350989</td>\n",
       "      <td>0.285146</td>\n",
       "      <td>0.492062</td>\n",
       "      <td>0.405405</td>\n",
       "      <td>0.320653</td>\n",
       "      <td>0.176487</td>\n",
       "      <td>...</td>\n",
       "      <td>0.286257</td>\n",
       "      <td>0.266433</td>\n",
       "      <td>0.229346</td>\n",
       "      <td>0.196134</td>\n",
       "      <td>0.18757</td>\n",
       "      <td>0.104958</td>\n",
       "      <td>0.274846</td>\n",
       "      <td>0.385306</td>\n",
       "      <td>0.158656</td>\n",
       "      <td>0.148095</td>\n",
       "    </tr>\n",
       "    <tr>\n",
       "      <th>min</th>\n",
       "      <td>2.000000</td>\n",
       "      <td>0.000000</td>\n",
       "      <td>1.000000</td>\n",
       "      <td>16.000000</td>\n",
       "      <td>0.000000</td>\n",
       "      <td>0.000000</td>\n",
       "      <td>0.000000</td>\n",
       "      <td>0.000000</td>\n",
       "      <td>0.000000</td>\n",
       "      <td>0.000000</td>\n",
       "      <td>...</td>\n",
       "      <td>0.000000</td>\n",
       "      <td>0.000000</td>\n",
       "      <td>0.000000</td>\n",
       "      <td>0.000000</td>\n",
       "      <td>0.00000</td>\n",
       "      <td>0.000000</td>\n",
       "      <td>0.000000</td>\n",
       "      <td>0.000000</td>\n",
       "      <td>0.000000</td>\n",
       "      <td>0.000000</td>\n",
       "    </tr>\n",
       "    <tr>\n",
       "      <th>25%</th>\n",
       "      <td>6.000000</td>\n",
       "      <td>0.000000</td>\n",
       "      <td>1.000000</td>\n",
       "      <td>29.000000</td>\n",
       "      <td>0.000000</td>\n",
       "      <td>0.000000</td>\n",
       "      <td>0.000000</td>\n",
       "      <td>0.000000</td>\n",
       "      <td>0.000000</td>\n",
       "      <td>0.000000</td>\n",
       "      <td>...</td>\n",
       "      <td>0.000000</td>\n",
       "      <td>0.000000</td>\n",
       "      <td>0.000000</td>\n",
       "      <td>0.000000</td>\n",
       "      <td>0.00000</td>\n",
       "      <td>0.000000</td>\n",
       "      <td>0.000000</td>\n",
       "      <td>0.000000</td>\n",
       "      <td>0.000000</td>\n",
       "      <td>0.000000</td>\n",
       "    </tr>\n",
       "    <tr>\n",
       "      <th>50%</th>\n",
       "      <td>7.000000</td>\n",
       "      <td>0.000000</td>\n",
       "      <td>2.000000</td>\n",
       "      <td>45.000000</td>\n",
       "      <td>0.000000</td>\n",
       "      <td>0.000000</td>\n",
       "      <td>0.000000</td>\n",
       "      <td>0.000000</td>\n",
       "      <td>0.000000</td>\n",
       "      <td>0.000000</td>\n",
       "      <td>...</td>\n",
       "      <td>0.000000</td>\n",
       "      <td>0.000000</td>\n",
       "      <td>0.000000</td>\n",
       "      <td>0.000000</td>\n",
       "      <td>0.00000</td>\n",
       "      <td>0.000000</td>\n",
       "      <td>0.000000</td>\n",
       "      <td>0.000000</td>\n",
       "      <td>0.000000</td>\n",
       "      <td>0.000000</td>\n",
       "    </tr>\n",
       "    <tr>\n",
       "      <th>75%</th>\n",
       "      <td>8.000000</td>\n",
       "      <td>0.000000</td>\n",
       "      <td>2.000000</td>\n",
       "      <td>62.000000</td>\n",
       "      <td>0.000000</td>\n",
       "      <td>0.000000</td>\n",
       "      <td>1.000000</td>\n",
       "      <td>0.000000</td>\n",
       "      <td>0.000000</td>\n",
       "      <td>0.000000</td>\n",
       "      <td>...</td>\n",
       "      <td>0.000000</td>\n",
       "      <td>0.000000</td>\n",
       "      <td>0.000000</td>\n",
       "      <td>0.000000</td>\n",
       "      <td>0.00000</td>\n",
       "      <td>0.000000</td>\n",
       "      <td>0.000000</td>\n",
       "      <td>0.000000</td>\n",
       "      <td>0.000000</td>\n",
       "      <td>0.000000</td>\n",
       "    </tr>\n",
       "    <tr>\n",
       "      <th>max</th>\n",
       "      <td>12.000000</td>\n",
       "      <td>1.000000</td>\n",
       "      <td>2.000000</td>\n",
       "      <td>80.000000</td>\n",
       "      <td>1.000000</td>\n",
       "      <td>1.000000</td>\n",
       "      <td>1.000000</td>\n",
       "      <td>1.000000</td>\n",
       "      <td>1.000000</td>\n",
       "      <td>1.000000</td>\n",
       "      <td>...</td>\n",
       "      <td>1.000000</td>\n",
       "      <td>1.000000</td>\n",
       "      <td>1.000000</td>\n",
       "      <td>1.000000</td>\n",
       "      <td>1.00000</td>\n",
       "      <td>1.000000</td>\n",
       "      <td>1.000000</td>\n",
       "      <td>1.000000</td>\n",
       "      <td>1.000000</td>\n",
       "      <td>1.000000</td>\n",
       "    </tr>\n",
       "  </tbody>\n",
       "</table>\n",
       "<p>8 rows × 26 columns</p>\n",
       "</div>"
      ],
      "text/plain": [
       "        hour_sleep   d_disorder       gender          age    race__1.0  \\\n",
       "count  6464.000000  6464.000000  6464.000000  6464.000000  6464.000000   \n",
       "mean      6.950650     0.089573     1.521658    45.704053     0.143874   \n",
       "std       1.427025     0.285591     0.499569    19.282154     0.350989   \n",
       "min       2.000000     0.000000     1.000000    16.000000     0.000000   \n",
       "25%       6.000000     0.000000     1.000000    29.000000     0.000000   \n",
       "50%       7.000000     0.000000     2.000000    45.000000     0.000000   \n",
       "75%       8.000000     0.000000     2.000000    62.000000     0.000000   \n",
       "max      12.000000     1.000000     2.000000    80.000000     1.000000   \n",
       "\n",
       "         race__2.0    race__3.0    race__4.0    race__6.0    race__7.0  \\\n",
       "count  6464.000000  6464.000000  6464.000000  6464.000000  6464.000000   \n",
       "mean      0.089264     0.411046     0.207302     0.116337     0.032178   \n",
       "std       0.285146     0.492062     0.405405     0.320653     0.176487   \n",
       "min       0.000000     0.000000     0.000000     0.000000     0.000000   \n",
       "25%       0.000000     0.000000     0.000000     0.000000     0.000000   \n",
       "50%       0.000000     0.000000     0.000000     0.000000     0.000000   \n",
       "75%       0.000000     1.000000     0.000000     0.000000     0.000000   \n",
       "max       1.000000     1.000000     1.000000     1.000000     1.000000   \n",
       "\n",
       "          ...          inc__7.0     inc__8.0     inc__9.0    inc__10.0  \\\n",
       "count     ...       6464.000000  6464.000000  6464.000000  6464.000000   \n",
       "mean      ...          0.090037     0.076887     0.055693     0.040068   \n",
       "std       ...          0.286257     0.266433     0.229346     0.196134   \n",
       "min       ...          0.000000     0.000000     0.000000     0.000000   \n",
       "25%       ...          0.000000     0.000000     0.000000     0.000000   \n",
       "50%       ...          0.000000     0.000000     0.000000     0.000000   \n",
       "75%       ...          0.000000     0.000000     0.000000     0.000000   \n",
       "max       ...          1.000000     1.000000     1.000000     1.000000   \n",
       "\n",
       "        inc__12.0    inc__13.0    inc__14.0    inc__15.0    inc__77.0  \\\n",
       "count  6464.00000  6464.000000  6464.000000  6464.000000  6464.000000   \n",
       "mean      0.03651     0.011139     0.082302     0.181312     0.025835   \n",
       "std       0.18757     0.104958     0.274846     0.385306     0.158656   \n",
       "min       0.00000     0.000000     0.000000     0.000000     0.000000   \n",
       "25%       0.00000     0.000000     0.000000     0.000000     0.000000   \n",
       "50%       0.00000     0.000000     0.000000     0.000000     0.000000   \n",
       "75%       0.00000     0.000000     0.000000     0.000000     0.000000   \n",
       "max       1.00000     1.000000     1.000000     1.000000     1.000000   \n",
       "\n",
       "         inc__99.0  \n",
       "count  6464.000000  \n",
       "mean      0.022432  \n",
       "std       0.148095  \n",
       "min       0.000000  \n",
       "25%       0.000000  \n",
       "50%       0.000000  \n",
       "75%       0.000000  \n",
       "max       1.000000  \n",
       "\n",
       "[8 rows x 26 columns]"
      ]
     },
     "execution_count": 35,
     "metadata": {},
     "output_type": "execute_result"
    }
   ],
   "source": [
    "sd_X.describe()"
   ]
  },
  {
   "cell_type": "code",
   "execution_count": 36,
   "metadata": {
    "collapsed": false
   },
   "outputs": [
    {
     "name": "stderr",
     "output_type": "stream",
     "text": [
      "/Users/chi-chunwang/anaconda2/lib/python2.7/site-packages/sklearn/cross_validation.py:44: DeprecationWarning: This module was deprecated in version 0.18 in favor of the model_selection module into which all the refactored classes and functions are moved. Also note that the interface of the new CV iterators are different from that of this module. This module will be removed in 0.20.\n",
      "  \"This module will be removed in 0.20.\", DeprecationWarning)\n"
     ]
    },
    {
     "data": {
      "text/plain": [
       "0.85984012900694329"
      ]
     },
     "execution_count": 36,
     "metadata": {},
     "output_type": "execute_result"
    }
   ],
   "source": [
    "from sklearn.cross_validation import cross_val_score\n",
    "from sklearn.neighbors import KNeighborsClassifier  # compare to knn\n",
    "knn = KNeighborsClassifier(n_neighbors=20)\n",
    "cross_val_score(knn, sd_X, sd_y, cv=5, scoring='accuracy').mean()"
   ]
  },
  {
   "cell_type": "code",
   "execution_count": 37,
   "metadata": {
    "collapsed": false
   },
   "outputs": [
    {
     "data": {
      "text/plain": [
       "d_diabetes\n",
       "0    5557\n",
       "1     907\n",
       "dtype: int64"
      ]
     },
     "execution_count": 37,
     "metadata": {},
     "output_type": "execute_result"
    }
   ],
   "source": [
    "sd_final.groupby('d_diabetes').size()"
   ]
  },
  {
   "cell_type": "code",
   "execution_count": 38,
   "metadata": {
    "collapsed": false
   },
   "outputs": [
    {
     "data": {
      "text/plain": [
       "<matplotlib.image.AxesImage at 0x114a99c90>"
      ]
     },
     "execution_count": 38,
     "metadata": {},
     "output_type": "execute_result"
    },
    {
     "data": {
      "image/png": "[encoded data removed]",
      "text/plain": [
       "<matplotlib.figure.Figure at 0x114a6f6d0>"
      ]
     },
     "metadata": {},
     "output_type": "display_data"
    }
   ],
   "source": [
    "plt.matshow(sd_final.corr())"
   ]
  },
  {
   "cell_type": "code",
   "execution_count": 39,
   "metadata": {
    "collapsed": false
   },
   "outputs": [],
   "source": [
    "from pandas.tools.plotting import scatter_matrix\n"
   ]
  },
  {
   "cell_type": "code",
   "execution_count": 40,
   "metadata": {
    "collapsed": false
   },
   "outputs": [
    {
     "name": "stdout",
     "output_type": "stream",
     "text": [
      "            hour_sleep  d_disorder  d_diabetes    gender       age      race  \\\n",
      "hour_sleep    1.000000   -0.100391   -0.009440 -0.000128  0.024616 -0.043791   \n",
      "d_disorder   -0.100391    1.000000    0.150921 -0.026071  0.109899 -0.012872   \n",
      "d_diabetes   -0.009440    0.150921    1.000000 -0.007262  0.304012 -0.023407   \n",
      "gender       -0.000128   -0.026071   -0.007262  1.000000  0.008223 -0.007618   \n",
      "age           0.024616    0.109899    0.304012  0.008223  1.000000 -0.017789   \n",
      "race         -0.043791   -0.012872   -0.023407 -0.007618 -0.017789  1.000000   \n",
      "house_hold    0.027988   -0.041240   -0.025996 -0.024374 -0.013646 -0.003373   \n",
      "race__1.0     0.033949   -0.054493    0.024757 -0.000126 -0.085842 -0.618641   \n",
      "race__2.0    -0.011987   -0.005099    0.003184  0.026072 -0.025925 -0.267751   \n",
      "race__3.0     0.057318    0.086987   -0.031521 -0.004435  0.141132 -0.168249   \n",
      "race__4.0    -0.085550   -0.005383    0.040631 -0.013769 -0.017981  0.231379   \n",
      "race__6.0     0.011873   -0.071570   -0.025725  0.000689 -0.034195  0.638655   \n",
      "race__7.0    -0.033013    0.016481   -0.013089  0.000869 -0.077451  0.440171   \n",
      "inc__1.0      0.008159   -0.025322   -0.000620  0.016538 -0.047919  0.036769   \n",
      "inc__2.0      0.014252    0.021835    0.017745  0.052860  0.013377 -0.017810   \n",
      "inc__3.0      0.013004    0.020615    0.041066  0.023024  0.077275 -0.034980   \n",
      "inc__4.0     -0.013352    0.025746    0.018139  0.012348  0.032288 -0.027636   \n",
      "inc__5.0      0.027294   -0.002508    0.021541 -0.009156 -0.008373 -0.077940   \n",
      "inc__6.0     -0.023701   -0.002233   -0.001413  0.014282 -0.035986 -0.041329   \n",
      "inc__7.0      0.005576    0.011107    0.019197 -0.001737  0.013210 -0.011048   \n",
      "inc__8.0     -0.033156    0.023348   -0.009592 -0.002632  0.012953  0.007942   \n",
      "inc__9.0     -0.014293    0.015954    0.022310 -0.014581  0.015694  0.029162   \n",
      "inc__10.0    -0.017258    0.007736    0.021936  0.010881  0.006818 -0.005042   \n",
      "inc__12.0     0.010201    0.005375   -0.019271 -0.016696 -0.015579 -0.027878   \n",
      "inc__13.0    -0.003561   -0.012643   -0.013168  0.016055  0.008280  0.001757   \n",
      "inc__14.0     0.007201    0.000684   -0.005912 -0.016365 -0.024774 -0.002894   \n",
      "inc__15.0    -0.000608   -0.046372   -0.069887 -0.032462 -0.032033  0.144665   \n",
      "inc__77.0     0.017934   -0.023762   -0.015253 -0.008037  0.017976 -0.017495   \n",
      "inc__99.0     0.024275   -0.021906    0.001968 -0.007614 -0.017940 -0.028458   \n",
      "\n",
      "            house_hold  race__1.0  race__2.0  race__3.0    ...      inc__7.0  \\\n",
      "hour_sleep    0.027988   0.033949  -0.011987   0.057318    ...      0.005576   \n",
      "d_disorder   -0.041240  -0.054493  -0.005099   0.086987    ...      0.011107   \n",
      "d_diabetes   -0.025996   0.024757   0.003184  -0.031521    ...      0.019197   \n",
      "gender       -0.024374  -0.000126   0.026072  -0.004435    ...     -0.001737   \n",
      "age          -0.013646  -0.085842  -0.025925   0.141132    ...      0.013210   \n",
      "race         -0.003373  -0.618641  -0.267751  -0.168249    ...     -0.011048   \n",
      "house_hold    1.000000   0.046426   0.040070  -0.052542    ...     -0.096835   \n",
      "race__1.0     0.046426   1.000000  -0.128340  -0.342473    ...      0.018889   \n",
      "race__2.0     0.040070  -0.128340   1.000000  -0.261544    ...     -0.030237   \n",
      "race__3.0    -0.052542  -0.342473  -0.261544   1.000000    ...     -0.000251   \n",
      "race__4.0    -0.052158  -0.209638  -0.160099  -0.427221    ...      0.019133   \n",
      "race__6.0     0.053363  -0.148743  -0.113594  -0.303123    ...     -0.007936   \n",
      "race__7.0     0.012279  -0.074749  -0.057085  -0.152331    ...     -0.017542   \n",
      "inc__1.0     -0.098020  -0.020065  -0.003140  -0.034493    ...     -0.047481   \n",
      "inc__2.0     -0.120797  -0.016031   0.022091  -0.012930    ...     -0.064136   \n",
      "inc__3.0     -0.139365  -0.003596   0.007573   0.019958    ...     -0.081860   \n",
      "inc__4.0     -0.124065   0.008064   0.001496   0.015151    ...     -0.081539   \n",
      "inc__5.0     -0.127186   0.054931   0.005666   0.013018    ...     -0.094874   \n",
      "inc__6.0     -0.125481   0.042403  -0.001863  -0.021624    ...     -0.108209   \n",
      "inc__7.0     -0.096835   0.018889  -0.030237  -0.000251    ...      1.000000   \n",
      "inc__8.0     -0.072417   0.005782   0.017588  -0.041649    ...     -0.090782   \n",
      "inc__9.0     -0.047114  -0.013060  -0.023979  -0.008194    ...     -0.076391   \n",
      "inc__10.0    -0.028006   0.008399  -0.016930   0.007277    ...     -0.064266   \n",
      "inc__12.0    -0.004524   0.023610   0.028738  -0.031863    ...     -0.061232   \n",
      "inc__13.0     0.003575   0.002693  -0.002207  -0.013767    ...     -0.033385   \n",
      "inc__14.0     0.027133   0.003944   0.014830   0.000370    ...     -0.094201   \n",
      "inc__15.0     0.069426  -0.126561  -0.038893   0.094058    ...     -0.148031   \n",
      "inc__77.0     0.598746   0.033268   0.068720  -0.062718    ...     -0.051226   \n",
      "inc__99.0     0.746639   0.059945   0.003872  -0.035250    ...     -0.047650   \n",
      "\n",
      "            inc__8.0  inc__9.0  inc__10.0  inc__12.0  inc__13.0  inc__14.0  \\\n",
      "hour_sleep -0.033156 -0.014293  -0.017258   0.010201  -0.003561   0.007201   \n",
      "d_disorder  0.023348  0.015954   0.007736   0.005375  -0.012643   0.000684   \n",
      "d_diabetes -0.009592  0.022310   0.021936  -0.019271  -0.013168  -0.005912   \n",
      "gender     -0.002632 -0.014581   0.010881  -0.016696   0.016055  -0.016365   \n",
      "age         0.012953  0.015694   0.006818  -0.015579   0.008280  -0.024774   \n",
      "race        0.007942  0.029162  -0.005042  -0.027878   0.001757  -0.002894   \n",
      "house_hold -0.072417 -0.047114  -0.028006  -0.004524   0.003575   0.027133   \n",
      "race__1.0   0.005782 -0.013060   0.008399   0.023610   0.002693   0.003944   \n",
      "race__2.0   0.017588 -0.023979  -0.016930   0.028738  -0.002207   0.014830   \n",
      "race__3.0  -0.041649 -0.008194   0.007277  -0.031863  -0.013767   0.000370   \n",
      "race__4.0   0.025743  0.017259   0.004493   0.016434   0.018452  -0.026779   \n",
      "race__6.0   0.003949  0.038121  -0.017544  -0.016607  -0.001730   0.021259   \n",
      "race__7.0   0.009896 -0.021346   0.011916  -0.012125  -0.002646  -0.009948   \n",
      "inc__1.0   -0.043564 -0.036658  -0.030839  -0.029384  -0.016020  -0.045204   \n",
      "inc__2.0   -0.058844 -0.049516  -0.041657  -0.039690  -0.021640  -0.061060   \n",
      "inc__3.0   -0.075105 -0.063200  -0.053168  -0.050659  -0.027620  -0.077934   \n",
      "inc__4.0   -0.074812 -0.062952  -0.052960  -0.050460  -0.027512  -0.077629   \n",
      "inc__5.0   -0.087046 -0.073248  -0.061621  -0.058713  -0.032011  -0.090324   \n",
      "inc__6.0   -0.099281 -0.083543  -0.070282  -0.066965  -0.036510  -0.103019   \n",
      "inc__7.0   -0.090782 -0.076391  -0.064266  -0.061232  -0.033385  -0.094201   \n",
      "inc__8.0    1.000000 -0.070088  -0.058963  -0.056180  -0.030630  -0.086428   \n",
      "inc__9.0   -0.070088  1.000000  -0.049616  -0.047274  -0.025775  -0.072728   \n",
      "inc__10.0  -0.058963 -0.049616   1.000000  -0.039770  -0.021683  -0.061183   \n",
      "inc__12.0  -0.056180 -0.047274  -0.039770   1.000000  -0.020660  -0.058296   \n",
      "inc__13.0  -0.030630 -0.025775  -0.021683  -0.020660   1.000000  -0.031784   \n",
      "inc__14.0  -0.086428 -0.072728  -0.061183  -0.058296  -0.031784   1.000000   \n",
      "inc__15.0  -0.135817 -0.114287  -0.096146  -0.091608  -0.049946  -0.140932   \n",
      "inc__77.0  -0.046999 -0.039549  -0.033271  -0.031701  -0.017284  -0.048769   \n",
      "inc__99.0  -0.043718 -0.036788  -0.030948  -0.029488  -0.016077  -0.045364   \n",
      "\n",
      "            inc__15.0  inc__77.0  inc__99.0  \n",
      "hour_sleep  -0.000608   0.017934   0.024275  \n",
      "d_disorder  -0.046372  -0.023762  -0.021906  \n",
      "d_diabetes  -0.069887  -0.015253   0.001968  \n",
      "gender      -0.032462  -0.008037  -0.007614  \n",
      "age         -0.032033   0.017976  -0.017940  \n",
      "race         0.144665  -0.017495  -0.028458  \n",
      "house_hold   0.069426   0.598746   0.746639  \n",
      "race__1.0   -0.126561   0.033268   0.059945  \n",
      "race__2.0   -0.038893   0.068720   0.003872  \n",
      "race__3.0    0.094058  -0.062718  -0.035250  \n",
      "race__4.0   -0.112880  -0.013518  -0.020769  \n",
      "race__6.0    0.164876  -0.004344   0.019977  \n",
      "race__7.0    0.012030   0.036615  -0.015781  \n",
      "inc__1.0    -0.071036  -0.024582  -0.022866  \n",
      "inc__2.0    -0.095953  -0.033204  -0.030886  \n",
      "inc__3.0    -0.122469  -0.042380  -0.039421  \n",
      "inc__4.0    -0.121989  -0.042214  -0.039267  \n",
      "inc__5.0    -0.141940  -0.049118  -0.045689  \n",
      "inc__6.0    -0.161889  -0.056022  -0.052110  \n",
      "inc__7.0    -0.148031  -0.051226  -0.047650  \n",
      "inc__8.0    -0.135817  -0.046999  -0.043718  \n",
      "inc__9.0    -0.114287  -0.039549  -0.036788  \n",
      "inc__10.0   -0.096146  -0.033271  -0.030948  \n",
      "inc__12.0   -0.091608  -0.031701  -0.029488  \n",
      "inc__13.0   -0.049946  -0.017284  -0.016077  \n",
      "inc__14.0   -0.140932  -0.048769  -0.045364  \n",
      "inc__15.0    1.000000  -0.076638  -0.071288  \n",
      "inc__77.0   -0.076638   1.000000  -0.024669  \n",
      "inc__99.0   -0.071288  -0.024669   1.000000  \n",
      "\n",
      "[29 rows x 29 columns]\n"
     ]
    }
   ],
   "source": [
    "sd_corr = sd_final.corr()\n",
    "print sd_corr"
   ]
  },
  {
   "cell_type": "code",
   "execution_count": 41,
   "metadata": {
    "collapsed": false
   },
   "outputs": [
    {
     "data": {
      "text/plain": [
       "pandas.core.series.Series"
      ]
     },
     "execution_count": 41,
     "metadata": {},
     "output_type": "execute_result"
    }
   ],
   "source": [
    "type(sd_corr)\n",
    "sd_corr_diabetes = sd_corr['d_diabetes']\n",
    "##scatter_matrix(sd_corr['d_diabetes', 'd_disorder'])\n",
    "type(sd_corr_diabetes)"
   ]
  },
  {
   "cell_type": "code",
   "execution_count": 42,
   "metadata": {
    "collapsed": false
   },
   "outputs": [
    {
     "data": {
      "text/plain": [
       "<matplotlib.lines.Line2D at 0x114e22a10>"
      ]
     },
     "execution_count": 42,
     "metadata": {},
     "output_type": "execute_result"
    },
    {
     "data": {
      "image/png": "[encoded data removed]",
      "text/plain": [
       "<matplotlib.figure.Figure at 0x114a5a0d0>"
      ]
     },
     "metadata": {},
     "output_type": "display_data"
    }
   ],
   "source": [
    "plt.figure();\n",
    "sd_corr.ix[2].plot.bar() \n",
    "plt.axhline(0, color='k')"
   ]
  },
  {
   "cell_type": "code",
   "execution_count": null,
   "metadata": {
    "collapsed": true
   },
   "outputs": [],
   "source": []
  }
 ],
 "metadata": {
  "kernelspec": {
   "display_name": "Python 2",
   "language": "python",
   "name": "python2"
  },
  "language_info": {
   "codemirror_mode": {
    "name": "ipython",
    "version": 2
   },
   "file_extension": ".py",
   "mimetype": "text/x-python",
   "name": "python",
   "nbconvert_exporter": "python",
   "pygments_lexer": "ipython2",
   "version": "2.7.13"
  }
 },
 "nbformat": 4,
 "nbformat_minor": 2
}
